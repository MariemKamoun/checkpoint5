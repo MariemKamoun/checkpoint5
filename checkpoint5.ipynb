{
 "cells": [
  {
   "cell_type": "code",
   "execution_count": 68,
   "id": "f97abd54",
   "metadata": {},
   "outputs": [
    {
     "name": "stdout",
     "output_type": "stream",
     "text": [
      "tuple:  (1, 2, 3)\n"
     ]
    }
   ],
   "source": [
    "#1\n",
    "x=int(input(\"x= \"))\n",
    "y= int(input(\"y= \"))\n",
    "z=int(input(\"z= \"))\n",
    "class Point3D (object):\n",
    "    def __init__(self, x, y, z):\n",
    "        self.x=x\n",
    "        self.y=y\n",
    "        self.z=z\n",
    "    def repre (self):\n",
    "        return (self.x, self.y, self.z)\n",
    "\n",
    "my_point= Point3D(1,2,3)\n",
    "s=my_point.repre()\n",
    "print(\"tuple: \",s)"
   ]
  },
  {
   "cell_type": "code",
   "execution_count": 70,
   "id": "342069c8",
   "metadata": {},
   "outputs": [
    {
     "name": "stdout",
     "output_type": "stream",
     "text": [
      "l= 3\n",
      "w= 4\n",
      "area is:  12\n",
      "perimetre is:  24\n"
     ]
    }
   ],
   "source": [
    "#2\n",
    "class Rectangle ():\n",
    "    def __init__(self, l, w):\n",
    "        self.lenght=l\n",
    "        self.width=w\n",
    "    def rectangle_area(self):\n",
    "        return (self.lenght*self.width)\n",
    "    def perimetre(self):\n",
    "        return(2*(self.width*self.lenght))\n",
    "l=int(input(\"l= \"))\n",
    "w=int(input(\"w= \"))\n",
    "my_rectangle= Rectangle(l, w)\n",
    "r=my_rectangle.rectangle_area()\n",
    "p=my_rectangle.perimetre()\n",
    "print(\"area is: \",r)\n",
    "print(\"perimetre is: \",p)"
   ]
  },
  {
   "cell_type": "code",
   "execution_count": 43,
   "id": "2747314e",
   "metadata": {},
   "outputs": [
    {
     "name": "stdout",
     "output_type": "stream",
     "text": [
      "rayon du cercle: 4\n",
      "x du cercle: 3\n",
      "y du cercle: 6\n",
      "x de A: 7\n",
      "y de A: 2\n",
      "area is: 50.26548245743669\n",
      "perimeter is:  25.132741228718345\n"
     ]
    },
    {
     "data": {
      "text/plain": [
       "\"A est à l'extérieur du Cercle\""
      ]
     },
     "execution_count": 43,
     "metadata": {},
     "output_type": "execute_result"
    }
   ],
   "source": [
    "#3\n",
    "r=int(input(\"rayon du cercle: \"))\n",
    "x=int(input(\"x du cercle: \"))\n",
    "y= int(input(\"y du cercle: \"))\n",
    "O=(x,y)\n",
    "x_A= int(input(\"x de A: \"))\n",
    "y_A= int(input(\"y de A: \"))\n",
    "A= (x_A,y_A)\n",
    "from math import pi\n",
    "from math import sqrt\n",
    "class Circle():\n",
    "    def __init__(self, O, r):\n",
    "        self.center= O\n",
    "        self.radius= r\n",
    "    def area(self):\n",
    "        return(pi*self.radius**2)\n",
    "    def perimeter(self):\n",
    "        return(2*pi*self.radius)\n",
    "    def isInside(self,A):\n",
    "        Q= sqrt((A[0]-self.center[0])**2+(A[1]-self.center[1])**2)\n",
    "        if Q==r:\n",
    "            return(\"A est sur le Cercle\")\n",
    "        elif Q<r:\n",
    "            return(\"A est dans le Cercle\")\n",
    "        else:\n",
    "            return(\"A est à l'extérieur du Cercle\")\n",
    "          \n",
    "mon_cercle = Circle(O, r)\n",
    "a=mon_cercle.area()\n",
    "pe=mon_cercle.perimeter()\n",
    "print(\"area is:\", a)\n",
    "print(\"perimeter is: \", pe)\n",
    "mon_cercle.isInside(A)"
   ]
  },
  {
   "cell_type": "code",
   "execution_count": 64,
   "id": "88a2684b",
   "metadata": {},
   "outputs": [
    {
     "name": "stdout",
     "output_type": "stream",
     "text": [
      "valeur initiale: 500\n",
      "gain: 300\n",
      "perte: 200\n",
      "800\n",
      "600\n"
     ]
    }
   ],
   "source": [
    "class Bank:\n",
    "    def __init__(self, balance):\n",
    "        self.balance=balance\n",
    "    def deposit(self, gain):\n",
    "        self.balance = self.balance+gain\n",
    "        return self.balance\n",
    "    def withdraw (self,perte):\n",
    "        self.balance=self.balance-perte\n",
    "        return self.balance\n",
    "x=int(input(\"valeur initiale: \"))\n",
    "balance_=Bank(x)\n",
    "y=int(input(\"gain: \"))\n",
    "z=int(input(\"perte: \"))      \n",
    "print(balance_.deposit(y))\n",
    "print(balance_.withdraw(z))\n"
   ]
  },
  {
   "cell_type": "code",
   "execution_count": null,
   "id": "86b41505",
   "metadata": {},
   "outputs": [],
   "source": []
  }
 ],
 "metadata": {
  "kernelspec": {
   "display_name": "Python 3",
   "language": "python",
   "name": "python3"
  },
  "language_info": {
   "codemirror_mode": {
    "name": "ipython",
    "version": 3
   },
   "file_extension": ".py",
   "mimetype": "text/x-python",
   "name": "python",
   "nbconvert_exporter": "python",
   "pygments_lexer": "ipython3",
   "version": "3.8.8"
  }
 },
 "nbformat": 4,
 "nbformat_minor": 5
}
